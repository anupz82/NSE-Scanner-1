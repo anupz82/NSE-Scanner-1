{
 "cells": [
  {
   "cell_type": "code",
   "execution_count": 82,
   "id": "5e5ddf16",
   "metadata": {},
   "outputs": [],
   "source": [
    "# Import necessary packages\n",
    "from bs4 import BeautifulSoup\n",
    "import requests\n",
    "import pandas as pd\n",
    "pd.set_option('display.max_rows', None)\n",
    "pd.set_option('display.max_columns', None)\n",
    "pd.set_option('display.width', None)\n",
    "from datetime import date\n",
    "import re\n",
    "import sys\n",
    "\n"
   ]
  },
  {
   "cell_type": "code",
   "execution_count": 83,
   "id": "4ae023df",
   "metadata": {},
   "outputs": [],
   "source": [
    "class Nse:\n",
    "    def __init__(self):\n",
    "        self.headers = {'User-Agent': 'Mozilla/5.0 (Windows NT 10.0; Win64; x64) Apple'\n",
    "                      'Webkit/537.36 (KHTML, like Gecko) Chrome/90.0.4430.212 Safari/537.36'}\n",
    "        self.session = requests.Session()\n",
    "        self.session.get(\"http://nseindia.com\", headers=self.headers)\n",
    "        self.stockTypes = \"NIFTY%20100\"\n",
    "        \n",
    "    def live_market_data(self,stockTypes): \n",
    "        self.stockTypes = stockTypes\n",
    "        print(self.stockTypes)\n",
    "        self.strURL = \"https://www.nseindia.com/api/equity-stockIndices?index=\" + self.stockTypes\n",
    "        print(self.strURL)\n",
    "        data = self.session.get(self.strURL, headers=self.headers).json()[\"data\"]\n",
    "        df = pd.DataFrame(data)\n",
    "        return df"
   ]
  },
  {
   "cell_type": "code",
   "execution_count": 84,
   "id": "9a1e5afc",
   "metadata": {},
   "outputs": [
    {
     "name": "stdout",
     "output_type": "stream",
     "text": [
      "Number of arguments: 3\n",
      "NIFTY 100\n",
      "https://www.nseindia.com/api/equity-stockIndices?index=NIFTY 100\n"
     ]
    }
   ],
   "source": [
    "# Print number of arguments passed in\n",
    "print (f'Number of arguments: {len(sys.argv)}')\n",
    "\n",
    "stockTypes = \"NIFTY 100\"\n",
    "if (len(sys.argv) > 1):   \n",
    "    #live_market_index = ['NIFTY 50','NIFTY 100' 'NIFTY MIDCAP 50']   \n",
    "    if(sys.argv[1] == \"-f\"):\n",
    "        sys.argv[1] = \"NIFTY 100\" \n",
    "    #print(sys.argv[1])        \n",
    "    #print(sys.argv[1].replace(' ','%20').replace('&','%26'))\n",
    "    stockTypes = sys.argv[1]   \n",
    "\n",
    "nse = Nse()\n",
    "df = nse.live_market_data(stockTypes)\n",
    "#print (df)"
   ]
  },
  {
   "cell_type": "code",
   "execution_count": 85,
   "id": "e438566c",
   "metadata": {},
   "outputs": [
    {
     "name": "stdout",
     "output_type": "stream",
     "text": [
      "===========Date 12/09/2021\n",
      "=========== NIFTY 100\n",
      "=========== Open=High (Sell) ===========\n",
      "======================================\n",
      "         Symbol       Open       High\n",
      "======================================\n",
      "        SBICARD     1138.0     1138.0\n",
      "     MUTHOOTFIN     1548.0     1548.0\n",
      "\n",
      "\n",
      "=========== Open=Low (Buy) ===========\n",
      "======================================\n",
      "         Symbol       Open        Low\n",
      "======================================\n",
      "      TATASTEEL     1420.0     1420.0\n",
      "       BOSCHLTD    14200.0    14200.0\n",
      "     ASIANPAINT     3305.0     3305.0\n",
      "     HINDUNILVR     2782.0     2782.0\n"
     ]
    }
   ],
   "source": [
    "today = date.today()\n",
    "d1 = today.strftime(\"%d/%m/%Y\")\n",
    "print(\"===========Date\", d1)\n",
    "print(\"===========\",stockTypes)\n",
    "print (\"=========== Open=High (Sell) ===========\")\n",
    "print (\"======================================\")\n",
    "print (\"%15s %10s %10s\" % (\"Symbol\",\"Open\",\"High\"))\n",
    "print (\"======================================\")\n",
    "for index, row in df.iterrows():\n",
    "    if (row.open.is_integer()):        \n",
    "        if(row.open == row.dayHigh):            \n",
    "            formatted_open = \"{:.2f}\".format(row.open)\n",
    "            formatted_dayHigh = \"{:.2f}\".format(row.dayHigh)\n",
    "            print (\"%15s %10s %10s\" %(row.symbol,row.open,row.dayHigh))\n",
    "\n",
    "print (\"\\n\")\n",
    "print (\"=========== Open=Low (Buy) ===========\")\n",
    "print (\"======================================\")\n",
    "print (\"%15s %10s %10s\" % (\"Symbol\",\"Open\",\"Low\"))\n",
    "print (\"======================================\")\n",
    "for index, row in df.iterrows():\n",
    "    if (row.open.is_integer()):        \n",
    "        if(row.open == row.dayLow):\n",
    "            formatted_open = \"{:.2f}\".format(row.open)\n",
    "            formatted_dayLow = \"{:.2f}\".format(row.dayLow)\n",
    "            print (\"%15s %10s %10s\" %(row.symbol,row.open,row.dayLow)) "
   ]
  },
  {
   "cell_type": "code",
   "execution_count": null,
   "id": "b5ce63b5",
   "metadata": {},
   "outputs": [],
   "source": []
  }
 ],
 "metadata": {
  "kernelspec": {
   "display_name": "Python 3",
   "language": "python",
   "name": "python3"
  },
  "language_info": {
   "codemirror_mode": {
    "name": "ipython",
    "version": 3
   },
   "file_extension": ".py",
   "mimetype": "text/x-python",
   "name": "python",
   "nbconvert_exporter": "python",
   "pygments_lexer": "ipython3",
   "version": "3.8.8"
  }
 },
 "nbformat": 4,
 "nbformat_minor": 5
}
